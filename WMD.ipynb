{
 "cells": [
  {
   "cell_type": "code",
   "execution_count": 1,
   "metadata": {},
   "outputs": [
    {
     "name": "stderr",
     "output_type": "stream",
     "text": [
      "C:\\Users\\ganda\\Anaconda3\\envs\\morph\\lib\\site-packages\\gensim\\utils.py:1197: UserWarning: detected Windows; aliasing chunkize to chunkize_serial\n",
      "  warnings.warn(\"detected Windows; aliasing chunkize to chunkize_serial\")\n"
     ]
    }
   ],
   "source": [
    "import os\n",
    "import re\n",
    "import MeCab as mc\n",
    "import unicodedata\n",
    "from gensim.models import word2vec"
   ]
  },
  {
   "cell_type": "code",
   "execution_count": 14,
   "metadata": {},
   "outputs": [
    {
     "name": "stdout",
     "output_type": "stream",
     "text": [
      "['domestic', 'economy', 'enter', 'life', 'local', 'science', 'sports', 'world']\n"
     ]
    }
   ],
   "source": [
    "#全ファイル版\n",
    "path = \"/Users/ganda/WMD_test/2014\"\n",
    "\n",
    "file_name = []\n",
    "files1 = os.listdir(path)\n",
    "files_dir_1 = [f for f in files1 if os.path.isdir(os.path.join(path, f))]\n",
    "for i in files_dir_1:\n",
    "    path_1 = path + '/' + i\n",
    "    files2 = os.listdir(path_1)\n",
    "    files_file = [f for f in files2 if os.path.isfile(os.path.join(path_1, f))]\n",
    "    #print(files_file)\n",
    "    titles = []\n",
    "    for j in files_file:\n",
    "        j = re.sub(r\".txt\", \"\", j)\n",
    "        j = re.sub(r\"（.+?）\", \"\", j)\n",
    "        j = re.sub(r\"＜.+?＞\", \"\", j)\n",
    "        j = re.sub(r\"【.+?】\", \"\", j)\n",
    "        #print(j)\n",
    "        titles.append(j)"
   ]
  },
  {
   "cell_type": "code",
   "execution_count": 2,
   "metadata": {},
   "outputs": [],
   "source": [
    "path = \"/Users/ganda/WMD_test/2014/science\"\n",
    "\n",
    "files = os.listdir(path)\n",
    "files_file = [f for f in files if os.path.isfile(os.path.join(path, f))]\n",
    "titles = []\n",
    "for i in files_file:\n",
    "    i = re.sub(r\".txt\", \"\", i)\n",
    "    i = re.sub(r\"（.+?）\", \"\", i)\n",
    "    i = re.sub(r\"＜.+?＞\", \"\", i)\n",
    "    i = re.sub(r\"【.+?】\", \"\", i)\n",
    "    i = re.sub(r\"[0-9]\", \"\", i)\n",
    "    titles.append(i)"
   ]
  },
  {
   "cell_type": "code",
   "execution_count": 3,
   "metadata": {},
   "outputs": [],
   "source": [
    "text_path = path + \"/science.txt\"\n",
    "with open(text_path) as f:\n",
    "    text = f.readlines()\n",
    "\n",
    "texts = []\n",
    "for i in text:\n",
    "    i = re.sub(r\"[0-9]\", \"\", i)\n",
    "    i = re.sub(r\"●\", \"\", i)\n",
    "    i = re.sub(r\"○\", \"\", i)\n",
    "    texts.append(i)"
   ]
  },
  {
   "cell_type": "code",
   "execution_count": 4,
   "metadata": {},
   "outputs": [],
   "source": [
    "def mecab_analysis(text):\n",
    "    text = unicodedata.normalize(\"NFKC\", text)\n",
    "    tagger = mc.Tagger(\"Ochasen\")\n",
    "    tagger.parse(\"\")\n",
    "    node = tagger.parseToNode(text)\n",
    "    out = []\n",
    "    while node:\n",
    "        if node.surface != \"\":\n",
    "            word_type = node.feature.split(\",\")[0]\n",
    "            if word_type in \"名詞\":\n",
    "                out.append(node.surface)\n",
    "        node = node.next\n",
    "        if node is None:\n",
    "            break\n",
    "    return out"
   ]
  },
  {
   "cell_type": "code",
   "execution_count": 5,
   "metadata": {},
   "outputs": [],
   "source": [
    "a_titles = [mecab_analysis(i) for i in titles]\n",
    "a_titles = [' '.join(d) for d in a_titles]"
   ]
  },
  {
   "cell_type": "code",
   "execution_count": 6,
   "metadata": {},
   "outputs": [],
   "source": [
    "a_texts = [mecab_analysis(i) for i in texts]\n",
    "a_texts = [' '.join(d) for d in a_texts]"
   ]
  },
  {
   "cell_type": "code",
   "execution_count": 7,
   "metadata": {},
   "outputs": [
    {
     "name": "stdout",
     "output_type": "stream",
     "text": [
      "& quot ; 年 人 逸材 & quot ; アイドル 橋本 環 奈 U - NEXT ライブ 映像 独占 配信\n",
      "U - NEXT 月日 橋本 環 奈 さん 所属 アイドル グループ Rev . from DVL ライブ インタビュー 映像 独占 配信 発表 橋本 環 奈 さん ファン 撮影 奇跡 写真 きっかけ ネット 上 天使 年 人 逸材 話題 人 U - NEXT 映像 配信 サービス Rev . from DVL ライブ 映像 メンバー インタビュー 映像 放題 配信 どちら DVD 販売 同社 独占 映像 配信 同社 配信 記念 期間 限定 新規 加入 者 特典 橋本 環 奈 さん 写真 当選 者 名前 入り サイン セット 名 プレゼント 受付 期間 同日 月日 登録 ページ 日 無料 トライアル 登録 人 対象\n"
     ]
    }
   ],
   "source": [
    "print(a_titles[0])\n",
    "print(a_texts[0])"
   ]
  },
  {
   "cell_type": "code",
   "execution_count": 65,
   "metadata": {},
   "outputs": [],
   "source": [
    "wakachi_file = \"texts.wakachi\"\n",
    "with open(wakachi_file, \"w\", encoding = \"utf-8\") as fp:\n",
    "    fp.write(\"\\n\".join(a_texts))"
   ]
  },
  {
   "cell_type": "code",
   "execution_count": 80,
   "metadata": {},
   "outputs": [],
   "source": [
    "data = word2vec.LineSentence(wakachi_file)\n",
    "model = word2vec.Word2Vec(data, size = 200, window=10, hs= 1, min_count=2, sg=1)\n",
    "model.save(\"science4.model\")"
   ]
  },
  {
   "cell_type": "code",
   "execution_count": 82,
   "metadata": {},
   "outputs": [
    {
     "name": "stderr",
     "output_type": "stream",
     "text": [
      "C:\\Users\\ganda\\Anaconda3\\envs\\morph\\lib\\site-packages\\ipykernel_launcher.py:1: DeprecationWarning: Call to deprecated `most_similar` (Method will be removed in 4.0.0, use self.wv.most_similar() instead).\n",
      "  \"\"\"Entry point for launching an IPython kernel.\n"
     ]
    },
    {
     "data": {
      "text/plain": [
       "[('IdeaPad', 0.6922056674957275),\n",
       " ('ASUSTek', 0.6575084924697876),\n",
       " ('デタッチャブルタイプ', 0.6570969820022583),\n",
       " ('ノートブック', 0.6567689180374146),\n",
       " ('(/)「', 0.6442689895629883),\n",
       " ('デル・レノボ', 0.6439136862754822),\n",
       " ('コンバーチブルタイプ', 0.6432920694351196),\n",
       " ('Miix', 0.6391905546188354),\n",
       " ('():', 0.6376708745956421),\n",
       " ('ビューモード', 0.6330447793006897)]"
      ]
     },
     "execution_count": 82,
     "metadata": {},
     "output_type": "execute_result"
    }
   ],
   "source": [
    "model.most_similar(positive=[\"タブレット\"])"
   ]
  },
  {
   "cell_type": "code",
   "execution_count": 88,
   "metadata": {},
   "outputs": [
    {
     "name": "stderr",
     "output_type": "stream",
     "text": [
      "C:\\Users\\ganda\\Anaconda3\\envs\\morph\\lib\\site-packages\\ipykernel_launcher.py:1: DeprecationWarning: Call to deprecated `most_similar` (Method will be removed in 4.0.0, use self.wv.most_similar() instead).\n",
      "  \"\"\"Entry point for launching an IPython kernel.\n"
     ]
    },
    {
     "data": {
      "text/plain": [
       "[('惹起', 0.8482050895690918),\n",
       " ('受精卵', 0.846222996711731),\n",
       " ('胎盤', 0.8285630941390991),\n",
       " ('細胞', 0.8285166621208191),\n",
       " ('多能', 0.824659526348114),\n",
       " ('胚', 0.8240193724632263),\n",
       " ('死滅', 0.8107287883758545),\n",
       " ('逆戻り', 0.8069238662719727),\n",
       " ('キメラマウス', 0.8030027151107788),\n",
       " ('樹立', 0.7997959852218628)]"
      ]
     },
     "execution_count": 88,
     "metadata": {},
     "output_type": "execute_result"
    }
   ],
   "source": [
    "model.most_similar(positive=[\"STAP\"])"
   ]
  },
  {
   "cell_type": "code",
   "execution_count": 8,
   "metadata": {},
   "outputs": [],
   "source": [
    "model = word2vec.Word2Vec.load(\"./science4.model\")"
   ]
  },
  {
   "cell_type": "code",
   "execution_count": 25,
   "metadata": {},
   "outputs": [
    {
     "name": "stdout",
     "output_type": "stream",
     "text": [
      "3.1279835534715015\n"
     ]
    },
    {
     "name": "stderr",
     "output_type": "stream",
     "text": [
      "C:\\Users\\ganda\\Anaconda3\\envs\\morph\\lib\\site-packages\\ipykernel_launcher.py:1: DeprecationWarning: Call to deprecated `wmdistance` (Method will be removed in 4.0.0, use self.wv.wmdistance() instead).\n",
      "  \"\"\"Entry point for launching an IPython kernel.\n"
     ]
    }
   ],
   "source": [
    "distance = model.wmdistance(a_texts[0], a_titles[0])\n",
    "print(distance)"
   ]
  },
  {
   "cell_type": "code",
   "execution_count": null,
   "metadata": {},
   "outputs": [
    {
     "name": "stderr",
     "output_type": "stream",
     "text": [
      "C:\\Users\\ganda\\Anaconda3\\envs\\morph\\lib\\site-packages\\ipykernel_launcher.py:5: DeprecationWarning: Call to deprecated `wmdistance` (Method will be removed in 4.0.0, use self.wv.wmdistance() instead).\n",
      "  \"\"\"\n"
     ]
    }
   ],
   "source": [
    "best_scores = []\n",
    "for i in range(len(a_texts)):\n",
    "    b_distance = 100000\n",
    "    for j in range(len(a_titles)):\n",
    "        distance = model.wmdistance(a_texts[i], a_titles[j])\n",
    "        if distance < b_distance:\n",
    "            b_distance = distance\n",
    "            best_match = j\n",
    "    d = {\"best_distance\" : b_distance,\n",
    "         \"best_match\" : best_match}\n",
    "    best_scores.append(d)   "
   ]
  },
  {
   "cell_type": "code",
   "execution_count": 30,
   "metadata": {},
   "outputs": [
    {
     "ename": "SyntaxError",
     "evalue": "invalid syntax (<ipython-input-30-185890891de9>, line 1)",
     "output_type": "error",
     "traceback": [
      "\u001b[1;36m  File \u001b[1;32m\"<ipython-input-30-185890891de9>\"\u001b[1;36m, line \u001b[1;32m1\u001b[0m\n\u001b[1;33m    for i in a_texts[]:\u001b[0m\n\u001b[1;37m                     ^\u001b[0m\n\u001b[1;31mSyntaxError\u001b[0m\u001b[1;31m:\u001b[0m invalid syntax\n"
     ]
    }
   ],
   "source": []
  },
  {
   "cell_type": "code",
   "execution_count": null,
   "metadata": {},
   "outputs": [],
   "source": []
  }
 ],
 "metadata": {
  "kernelspec": {
   "display_name": "Python 3",
   "language": "python",
   "name": "python3"
  },
  "language_info": {
   "codemirror_mode": {
    "name": "ipython",
    "version": 3
   },
   "file_extension": ".py",
   "mimetype": "text/x-python",
   "name": "python",
   "nbconvert_exporter": "python",
   "pygments_lexer": "ipython3",
   "version": "3.6.7"
  }
 },
 "nbformat": 4,
 "nbformat_minor": 2
}
